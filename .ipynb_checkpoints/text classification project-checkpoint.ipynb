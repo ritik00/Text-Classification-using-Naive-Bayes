{
 "cells": [
  {
   "cell_type": "code",
   "execution_count": 1,
   "metadata": {
    "scrolled": false
   },
   "outputs": [
    {
     "data": {
      "text/plain": [
       "2000"
      ]
     },
     "execution_count": 1,
     "metadata": {},
     "output_type": "execute_result"
    }
   ],
   "source": [
    "import sklearn.datasets as skd\n",
    "import pandas as pd \n",
    "import numpy as np\n",
    "from sklearn.model_selection import train_test_split\n",
    "news_train=skd.load_files('20_newsgroups',encoding='ISO-8859-1')  #loding Folder offline\n",
    "stop_words=[\"a\", \"about\", \"above\", \"after\", \"again\", \"against\", \"ain\", \"all\", \"am\", \"an\", \"and\", \"any\", \"are\", \"aren\", \"aren't\", \"as\", \"at\", \"be\", \"because\", \"been\", \"before\", \"being\", \"below\", \"between\", \"both\", \"but\", \"by\", \"can\", \"couldn\", \"couldn't\", \"d\", \"did\", \"didn\", \"didn't\", \"do\", \"does\", \"doesn\", \"doesn't\", \"doing\", \"don\", \"don't\", \"down\", \"during\", \"each\", \"few\", \"for\", \"from\", \"further\", \"had\", \"hadn\", \"hadn't\", \"has\", \"hasn\", \"hasn't\", \"have\", \"haven\", \"haven't\", \"having\", \"he\", \"her\", \"here\", \"hers\", \"herself\", \"him\", \"himself\", \"his\", \"how\", \"i\", \"if\", \"in\", \"into\", \"is\", \"isn\", \"isn't\", \"it\", \"it's\", \"its\", \"itself\", \"just\", \"ll\", \"m\", \"ma\", \"me\", \"mightn\", \"mightn't\", \"more\", \"most\", \"mustn\", \"mustn't\", \"my\", \"myself\", \"needn\", \"needn't\", \"no\", \"nor\", \"not\", \"now\", \"o\", \"of\", \"off\", \"on\", \"once\", \"only\", \"or\", \"other\", \"our\", \"ours\", \"ourselves\", \"out\", \"over\", \"own\", \"re\", \"s\", \"same\", \"shan\", \"shan't\", \"she\", \"she's\", \"should\", \"should've\", \"shouldn\", \"shouldn't\", \"so\", \"some\", \"such\", \"t\", \"than\", \"that\", \"that'll\", \"the\", \"their\", \"theirs\", \"them\", \"themselves\", \"then\", \"there\", \"these\", \"they\", \"this\", \"those\", \"through\", \"to\", \"too\", \"under\", \"until\", \"up\", \"ve\", \"very\", \"was\", \"wasn\", \"wasn't\", \"we\", \"were\", \"weren\", \"weren't\", \"what\", \"when\", \"where\", \"which\", \"while\", \"who\", \"whom\", \"why\", \"will\", \"with\", \"won\", \"won't\", \"wouldn\", \"wouldn't\", \"y\", \"you\", \"you'd\", \"you'll\", \"you're\", \"you've\", \"your\", \"yours\", \"yourself\", \"yourselves\", \"could\", \"he'd\", \"he'll\", \"he's\", \"here's\", \"how's\", \"i'd\", \"i'll\", \"i'm\", \"i've\", \"let's\", \"ought\", \"she'd\", \"she'll\", \"that's\", \"there's\", \"they'd\", \"they'll\", \"they're\", \"they've\", \"we'd\", \"we'll\", \"we're\", \"we've\", \"what's\", \"when's\", \"where's\", \"who's\", \"why's\", \"would\", \"able\", \"abst\", \"accordance\", \"according\", \"accordingly\", \"across\", \"act\", \"actually\", \"added\", \"adj\", \"affected\", \"affecting\", \"affects\", \"afterwards\", \"ah\", \"almost\", \"alone\", \"along\", \"already\", \"also\", \"although\", \"always\", \"among\", \"amongst\", \"announce\", \"another\", \"anybody\", \"anyhow\", \"anymore\", \"anyone\", \"anything\", \"anyway\", \"anyways\", \"anywhere\", \"apparently\", \"approximately\", \"arent\", \"arise\", \"around\", \"aside\", \"ask\", \"asking\", \"auth\", \"available\", \"away\", \"awfully\", \"b\", \"back\", \"became\", \"become\", \"becomes\", \"becoming\", \"beforehand\", \"begin\", \"beginning\", \"beginnings\", \"begins\", \"behind\", \"believe\", \"beside\", \"besides\", \"beyond\", \"biol\", \"brief\", \"briefly\", \"c\", \"ca\", \"came\", \"cannot\", \"can't\", \"cause\", \"causes\", \"certain\", \"certainly\", \"co\", \"com\", \"come\", \"comes\", \"contain\", \"containing\", \"contains\", \"couldnt\", \"date\", \"different\", \"done\", \"downwards\", \"due\", \"e\", \"ed\", \"edu\", \"effect\", \"eg\", \"eight\", \"eighty\", \"either\", \"else\", \"elsewhere\", \"end\", \"ending\", \"enough\", \"especially\", \"et\", \"etc\", \"even\", \"ever\", \"every\", \"everybody\", \"everyone\", \"everything\", \"everywhere\", \"ex\", \"except\", \"f\", \"far\", \"ff\", \"fifth\", \"first\", \"five\", \"fix\", \"followed\", \"following\", \"follows\", \"former\", \"formerly\", \"forth\", \"found\", \"four\", \"furthermore\", \"g\", \"gave\", \"get\", \"gets\", \"getting\", \"give\", \"given\", \"gives\", \"giving\", \"go\", \"goes\", \"gone\", \"got\", \"gotten\", \"h\", \"happens\", \"hardly\", \"hed\", \"hence\", \"hereafter\", \"hereby\", \"herein\", \"heres\", \"hereupon\", \"hes\", \"hi\", \"hid\", \"hither\", \"home\", \"howbeit\", \"however\", \"hundred\", \"id\", \"ie\", \"im\", \"immediate\", \"immediately\", \"importance\", \"important\", \"inc\", \"indeed\", \"index\", \"information\", \"instead\", \"invention\", \"inward\", \"itd\", \"it'll\", \"j\", \"k\", \"keep\", \"keeps\", \"kept\", \"kg\", \"km\", \"know\", \"known\", \"knows\", \"l\", \"largely\", \"last\", \"lately\", \"later\", \"latter\", \"latterly\", \"least\", \"less\", \"lest\", \"let\", \"lets\", \"like\", \"liked\", \"likely\", \"line\", \"little\", \"'ll\", \"look\", \"looking\", \"looks\", \"ltd\", \"made\", \"mainly\", \"make\", \"makes\", \"many\", \"may\", \"maybe\", \"mean\", \"means\", \"meantime\", \"meanwhile\", \"merely\", \"mg\", \"might\", \"million\", \"miss\", \"ml\", \"moreover\", \"mostly\", \"mr\", \"mrs\", \"much\", \"mug\", \"must\", \"n\", \"na\", \"name\", \"namely\", \"nay\", \"nd\", \"near\", \"nearly\", \"necessarily\", \"necessary\", \"need\", \"needs\", \"neither\", \"never\", \"nevertheless\", \"new\", \"next\", \"nine\", \"ninety\", \"nobody\", \"non\", \"none\", \"nonetheless\", \"noone\", \"normally\", \"nos\", \"noted\", \"nothing\", \"nowhere\", \"obtain\", \"obtained\", \"obviously\", \"often\", \"oh\", \"ok\", \"okay\", \"old\", \"omitted\", \"one\", \"ones\", \"onto\", \"ord\", \"others\", \"otherwise\", \"outside\", \"overall\", \"owing\", \"p\", \"page\", \"pages\", \"part\", \"particular\", \"particularly\", \"past\", \"per\", \"perhaps\", \"placed\", \"please\", \"plus\", \"poorly\", \"possible\", \"possibly\", \"potentially\", \"pp\", \"predominantly\", \"present\", \"previously\", \"primarily\", \"probably\", \"promptly\", \"proud\", \"provides\", \"put\", \"q\", \"que\", \"quickly\", \"quite\", \"qv\", \"r\", \"ran\", \"rather\", \"rd\", \"readily\", \"really\", \"recent\", \"recently\", \"ref\", \"refs\", \"regarding\", \"regardless\", \"regards\", \"related\", \"relatively\", \"research\", \"respectively\", \"resulted\", \"resulting\", \"results\", \"right\", \"run\", \"said\", \"saw\", \"say\", \"saying\", \"says\", \"sec\", \"section\", \"see\", \"seeing\", \"seem\", \"seemed\", \"seeming\", \"seems\", \"seen\", \"self\", \"selves\", \"sent\", \"seven\", \"several\", \"shall\", \"shed\", \"shes\", \"show\", \"showed\", \"shown\", \"showns\", \"shows\", \"significant\", \"significantly\", \"similar\", \"similarly\", \"since\", \"six\", \"slightly\", \"somebody\", \"somehow\", \"someone\", \"somethan\", \"something\", \"sometime\", \"sometimes\", \"somewhat\", \"somewhere\", \"soon\", \"sorry\", \"specifically\", \"specified\", \"specify\", \"specifying\", \"still\", \"stop\", \"strongly\", \"sub\", \"substantially\", \"successfully\", \"sufficiently\", \"suggest\", \"sup\", \"sure\", \"take\", \"taken\", \"taking\", \"tell\", \"tends\", \"th\", \"thank\", \"thanks\", \"thanx\", \"thats\", \"that've\", \"thence\", \"thereafter\", \"thereby\", \"thered\", \"therefore\", \"therein\", \"there'll\", \"thereof\", \"therere\", \"theres\", \"thereto\", \"thereupon\", \"there've\", \"theyd\", \"theyre\", \"think\", \"thou\", \"though\", \"thoughh\", \"thousand\", \"throug\", \"throughout\", \"thru\", \"thus\", \"til\", \"tip\", \"together\", \"took\", \"toward\", \"towards\", \"tried\", \"tries\", \"truly\", \"try\", \"trying\", \"ts\", \"twice\", \"two\", \"u\", \"un\", \"unfortunately\", \"unless\", \"unlike\", \"unlikely\", \"unto\", \"upon\", \"ups\", \"us\", \"use\", \"used\", \"useful\", \"usefully\", \"usefulness\", \"uses\", \"using\", \"usually\", \"v\", \"value\", \"various\", \"'ve\", \"via\", \"viz\", \"vol\", \"vols\", \"vs\", \"w\", \"want\", \"wants\", \"wasnt\", \"way\", \"wed\", \"welcome\", \"went\", \"werent\", \"whatever\", \"what'll\", \"whats\", \"whence\", \"whenever\", \"whereafter\", \"whereas\", \"whereby\", \"wherein\", \"wheres\", \"whereupon\", \"wherever\", \"whether\", \"whim\", \"whither\", \"whod\", \"whoever\", \"whole\", \"who'll\", \"whomever\", \"whos\", \"whose\", \"widely\", \"willing\", \"wish\", \"within\", \"without\", \"wont\", \"words\", \"world\", \"wouldnt\", \"www\", \"x\", \"yes\", \"yet\", \"youd\", \"youre\", \"z\", \"zero\", \"a's\", \"ain't\", \"allow\", \"allows\", \"apart\", \"appear\", \"appreciate\", \"appropriate\", \"associated\", \"best\", \"better\", \"c'mon\", \"c's\", \"cant\", \"changes\", \"clearly\", \"concerning\", \"consequently\", \"consider\", \"considering\", \"corresponding\", \"course\", \"currently\", \"definitely\", \"described\", \"despite\", \"entirely\", \"exactly\", \"example\", \"going\", \"greetings\", \"hello\", \"help\", \"hopefully\", \"ignored\", \"inasmuch\", \"indicate\", \"indicated\", \"indicates\", \"inner\", \"insofar\", \"it'd\", \"keep\", \"keeps\", \"novel\", \"presumably\", \"reasonably\", \"second\", \"secondly\", \"sensible\", \"serious\", \"seriously\", \"sure\", \"t's\", \"third\", \"thorough\", \"thoroughly\", \"three\", \"well\", \"wonder\", \"a\", \"about\", \"above\", \"above\", \"across\", \"after\", \"afterwards\", \"again\", \"against\", \"all\", \"almost\", \"alone\", \"along\", \"already\", \"also\", \"although\", \"always\", \"am\", \"among\", \"amongst\", \"amoungst\", \"amount\", \"an\", \"and\", \"another\", \"any\", \"anyhow\", \"anyone\", \"anything\", \"anyway\", \"anywhere\", \"are\", \"around\", \"as\", \"at\", \"back\", \"be\", \"became\", \"because\", \"become\", \"becomes\", \"becoming\", \"been\", \"before\", \"beforehand\", \"behind\", \"being\", \"below\", \"beside\", \"besides\", \"between\", \"beyond\", \"bill\", \"both\", \"bottom\", \"but\", \"by\", \"call\", \"can\", \"cannot\", \"cant\", \"co\", \"con\", \"could\", \"couldnt\", \"cry\", \"de\", \"describe\", \"detail\", \"do\", \"done\", \"down\", \"due\", \"during\", \"each\", \"eg\", \"eight\", \"either\", \"eleven\", \"else\", \"elsewhere\", \"empty\", \"enough\", \"etc\", \"even\", \"ever\", \"every\", \"everyone\", \"everything\", \"everywhere\", \"except\", \"few\", \"fifteen\", \"fify\", \"fill\", \"find\", \"fire\", \"first\", \"five\", \"for\", \"former\", \"formerly\", \"forty\", \"found\", \"four\", \"from\", \"front\", \"full\", \"further\", \"get\", \"give\", \"go\", \"had\", \"has\", \"hasnt\", \"have\", \"he\", \"hence\", \"her\", \"here\", \"hereafter\", \"hereby\", \"herein\", \"hereupon\", \"hers\", \"herself\", \"him\", \"himself\", \"his\", \"how\", \"however\", \"hundred\", \"ie\", \"if\", \"in\", \"inc\", \"indeed\", \"interest\", \"into\", \"is\", \"it\", \"its\", \"itself\", \"keep\", \"last\", \"latter\", \"latterly\", \"least\", \"less\", \"ltd\", \"made\", \"many\", \"may\", \"me\", \"meanwhile\", \"might\", \"mill\", \"mine\", \"more\", \"moreover\", \"most\", \"mostly\", \"move\", \"much\", \"must\", \"my\", \"myself\", \"name\", \"namely\", \"neither\", \"never\", \"nevertheless\", \"next\", \"nine\", \"no\", \"nobody\", \"none\", \"noone\", \"nor\", \"not\", \"nothing\", \"now\", \"nowhere\", \"of\", \"off\", \"often\", \"on\", \"once\", \"one\", \"only\", \"onto\", \"or\", \"other\", \"others\", \"otherwise\", \"our\", \"ours\", \"ourselves\", \"out\", \"over\", \"own\", \"part\", \"per\", \"perhaps\", \"please\", \"put\", \"rather\", \"re\", \"same\", \"see\", \"seem\", \"seemed\", \"seeming\", \"seems\", \"serious\", \"several\", \"she\", \"should\", \"show\", \"side\", \"since\", \"sincere\", \"six\", \"sixty\", \"so\", \"some\", \"somehow\", \"someone\", \"something\", \"sometime\", \"sometimes\", \"somewhere\", \"still\", \"such\", \"system\", \"take\", \"ten\", \"than\", \"that\", \"the\", \"their\", \"them\", \"themselves\", \"then\", \"thence\", \"there\", \"thereafter\", \"thereby\", \"therefore\", \"therein\", \"thereupon\", \"these\", \"they\", \"thickv\", \"thin\", \"third\", \"this\", \"those\", \"though\", \"three\", \"through\", \"throughout\", \"thru\", \"thus\", \"to\", \"together\", \"too\", \"top\", \"toward\", \"towards\", \"twelve\", \"twenty\", \"two\", \"un\", \"under\", \"until\", \"up\", \"upon\", \"us\", \"very\", \"via\", \"was\", \"we\", \"well\", \"were\", \"what\", \"whatever\", \"when\", \"whence\", \"whenever\", \"where\", \"whereafter\", \"whereas\", \"whereby\", \"wherein\", \"whereupon\", \"wherever\", \"whether\", \"which\", \"while\", \"whither\", \"who\", \"whoever\", \"whole\", \"whom\", \"whose\", \"why\", \"will\", \"with\", \"within\", \"without\", \"would\", \"yet\", \"you\", \"your\", \"yours\", \"yourself\", \"yourselves\", \"the\", \"a\", \"b\", \"c\", \"d\", \"e\", \"f\", \"g\", \"h\", \"i\", \"j\", \"k\", \"l\", \"m\", \"n\", \"o\", \"p\", \"q\", \"r\", \"s\", \"t\", \"u\", \"v\", \"w\", \"x\", \"y\", \"z\", \"A\", \"B\", \"C\", \"D\", \"E\", \"F\", \"G\", \"H\", \"I\", \"J\", \"K\", \"L\", \"M\", \"N\", \"O\", \"P\", \"Q\", \"R\", \"S\", \"T\", \"U\", \"V\", \"W\", \"X\", \"Y\", \"Z\", \"co\", \"op\", \"research-articl\", \"pagecount\", \"cit\", \"ibid\", \"les\", \"le\", \"au\", \"que\", \"est\", \"pas\", \"vol\", \"el\", \"los\", \"pp\", \"u201d\", \"well-b\", \"http\", \"volumtype\", \"par\", \"0o\", \"0s\", \"3a\", \"3b\", \"3d\", \"6b\", \"6o\", \"a1\", \"a2\", \"a3\", \"a4\", \"ab\", \"ac\", \"ad\", \"ae\", \"af\", \"ag\", \"aj\", \"al\", \"an\", \"ao\", \"ap\", \"ar\", \"av\", \"aw\", \"ax\", \"ay\", \"az\", \"b1\", \"b2\", \"b3\", \"ba\", \"bc\", \"bd\", \"be\", \"bi\", \"bj\", \"bk\", \"bl\", \"bn\", \"bp\", \"br\", \"bs\", \"bt\", \"bu\", \"bx\", \"c1\", \"c2\", \"c3\", \"cc\", \"cd\", \"ce\", \"cf\", \"cg\", \"ch\", \"ci\", \"cj\", \"cl\", \"cm\", \"cn\", \"cp\", \"cq\", \"cr\", \"cs\", \"ct\", \"cu\", \"cv\", \"cx\", \"cy\", \"cz\", \"d2\", \"da\", \"dc\", \"dd\", \"de\", \"df\", \"di\", \"dj\", \"dk\", \"dl\", \"do\", \"dp\", \"dr\", \"ds\", \"dt\", \"du\", \"dx\", \"dy\", \"e2\", \"e3\", \"ea\", \"ec\", \"ed\", \"ee\", \"ef\", \"ei\", \"ej\", \"el\", \"em\", \"en\", \"eo\", \"ep\", \"eq\", \"er\", \"es\", \"et\", \"eu\", \"ev\", \"ex\", \"ey\", \"f2\", \"fa\", \"fc\", \"ff\", \"fi\", \"fj\", \"fl\", \"fn\", \"fo\", \"fr\", \"fs\", \"ft\", \"fu\", \"fy\", \"ga\", \"ge\", \"gi\", \"gj\", \"gl\", \"go\", \"gr\", \"gs\", \"gy\", \"h2\", \"h3\", \"hh\", \"hi\", \"hj\", \"ho\", \"hr\", \"hs\", \"hu\", \"hy\", \"i\", \"i2\", \"i3\", \"i4\", \"i6\", \"i7\", \"i8\", \"ia\", \"ib\", \"ic\", \"ie\", \"ig\", \"ih\", \"ii\", \"ij\", \"il\", \"in\", \"io\", \"ip\", \"iq\", \"ir\", \"iv\", \"ix\", \"iy\", \"iz\", \"jj\", \"jr\", \"js\", \"jt\", \"ju\", \"ke\", \"kg\", \"kj\", \"km\", \"ko\", \"l2\", \"la\", \"lb\", \"lc\", \"lf\", \"lj\", \"ln\", \"lo\", \"lr\", \"ls\", \"lt\", \"m2\", \"ml\", \"mn\", \"mo\", \"ms\", \"mt\", \"mu\", \"n2\", \"nc\", \"nd\", \"ne\", \"ng\", \"ni\", \"nj\", \"nl\", \"nn\", \"nr\", \"ns\", \"nt\", \"ny\", \"oa\", \"ob\", \"oc\", \"od\", \"of\", \"og\", \"oi\", \"oj\", \"ol\", \"om\", \"on\", \"oo\", \"oq\", \"or\", \"os\", \"ot\", \"ou\", \"ow\", \"ox\", \"oz\", \"p1\", \"p2\", \"p3\", \"pc\", \"pd\", \"pe\", \"pf\", \"ph\", \"pi\", \"pj\", \"pk\", \"pl\", \"pm\", \"pn\", \"po\", \"pq\", \"pr\", \"ps\", \"pt\", \"pu\", \"py\", \"qj\", \"qu\", \"r2\", \"ra\", \"rc\", \"rd\", \"rf\", \"rh\", \"ri\", \"rj\", \"rl\", \"rm\", \"rn\", \"ro\", \"rq\", \"rr\", \"rs\", \"rt\", \"ru\", \"rv\", \"ry\", \"s2\", \"sa\", \"sc\", \"sd\", \"se\", \"sf\", \"si\", \"sj\", \"sl\", \"sm\", \"sn\", \"sp\", \"sq\", \"sr\", \"ss\", \"st\", \"sy\", \"sz\", \"t1\", \"t2\", \"t3\", \"tb\", \"tc\", \"td\", \"te\", \"tf\", \"th\", \"ti\", \"tj\", \"tl\", \"tm\", \"tn\", \"tp\", \"tq\", \"tr\", \"ts\", \"tt\", \"tv\", \"tx\", \"ue\", \"ui\", \"uj\", \"uk\", \"um\", \"un\", \"uo\", \"ur\", \"ut\", \"va\", \"wa\", \"vd\", \"wi\", \"vj\", \"vo\", \"wo\", \"vq\", \"vt\", \"vu\", \"x1\", \"x2\", \"x3\", \"xf\", \"xi\", \"xj\", \"xk\", \"xl\", \"xn\", \"xo\", \"xs\", \"xt\", \"xv\", \"xx\", \"y2\", \"yj\", \"yl\", \"yr\", \"ys\", \"yt\", \"zi\", \"zz\"  ]                               \n",
    "\n",
    "list1=news_train.data                                             # data in string format of all folders\n",
    "list2=[]                                                          # used for storing all individual words of each para       \n",
    "dic2={}                                                           # dic for storing counts of each words\n",
    "y_target=news_train.target                                        # it stores all targets values \n",
    "for i in range(0,len(list1)):\n",
    "    list2=list1[i].strip().split(\" \")                                 \n",
    "    for x in list2:\n",
    "        if x in stop_words:                                       # stop_words have been avoided\n",
    "            continue\n",
    "        if x not in dic2:                                  \n",
    "            dic2[x]=0\n",
    "            list2.append(x)\n",
    "        dic2[x]+=1           \n",
    "dic2_sorted=sorted(dic2.items(),key=lambda t:t[1],reverse=True)    # sorting dic in decresing order\n",
    "list6=[]                                                           \n",
    "i=0\n",
    "for m in dic2_sorted:                                               # taking top 4000 words for features set with high f\n",
    "    list6.append(m[0])\n",
    "    i+=1\n",
    "    if i==2000:\n",
    "        break\n",
    "len(list6)                                                         # list 6 contains all 4000 features having"
   ]
  },
  {
   "cell_type": "code",
   "execution_count": 2,
   "metadata": {},
   "outputs": [],
   "source": [
    "def rows(words,features):                                         # here updating each rows of data frame\n",
    "    lst=np.array([0]*2000)                                           \n",
    "    for ele in words:\n",
    "        if ele in features:\n",
    "            lst[features.index(ele)]=words.count(ele)\n",
    "    return lst       "
   ]
  },
  {
   "cell_type": "code",
   "execution_count": 3,
   "metadata": {},
   "outputs": [],
   "source": [
    "def makingdataframe(news_train,features):                          #making data frame using string data and features set\n",
    "    x_train=pd.DataFrame(np.zeros((len(news_train),2000)))         # genrating a 2 d array for data frame\n",
    "    x_train.columns=features                                       #assigning names of coulumns from feature set\n",
    "    for i in range(0,len(news_train)):\n",
    "        curr_para=news_train[i]\n",
    "        words=curr_para.strip().split(\" \")                         # rows fuction used for updating each rows of dataframe\n",
    "        x_train.iloc[i,:]=rows(words,features)\n",
    "    return x_train                                                 # returning final data frame   \n",
    "        \n",
    "        \n"
   ]
  },
  {
   "cell_type": "code",
   "execution_count": 4,
   "metadata": {},
   "outputs": [
    {
     "name": "stdout",
     "output_type": "stream",
     "text": [
      "             Apr  The    -  Re:  1993  article   \\n    |   93  ...  caught  \\\n",
      "0       0.0  1.0  1.0  0.0  0.0   1.0      0.0  0.0  0.0  0.0  ...     0.0   \n",
      "1       0.0  2.0  0.0  1.0  1.0   1.0      1.0  0.0  0.0  1.0  ...     0.0   \n",
      "2      13.0  1.0  0.0  0.0  1.0   1.0      1.0  0.0  0.0  0.0  ...     0.0   \n",
      "3      16.0  1.0  0.0  0.0  0.0   0.0      0.0  0.0  0.0  1.0  ...     0.0   \n",
      "4      13.0  1.0  0.0  0.0  1.0   1.0      1.0  0.0  0.0  0.0  ...     0.0   \n",
      "...     ...  ...  ...  ...  ...   ...      ...  ...  ...  ...  ...     ...   \n",
      "19992   3.0  1.0  1.0  0.0  0.0   0.0      0.0  0.0  0.0  1.0  ...     0.0   \n",
      "19993   4.0  1.0  0.0  0.0  1.0   0.0      2.0  0.0  2.0  1.0  ...     0.0   \n",
      "19994  31.0  1.0  1.0  2.0  1.0   1.0      3.0  0.0  0.0  0.0  ...     0.0   \n",
      "19995   0.0  1.0  0.0  0.0  1.0   1.0      1.0  0.0  0.0  0.0  ...     0.0   \n",
      "19996   2.0  1.0  0.0  0.0  1.0   1.0      0.0  0.0  0.0  0.0  ...     0.0   \n",
      "\n",
      "       in,  table  talked  walk  CAN  Phone:  (Joseph  (to  justify  \n",
      "0      0.0    0.0     0.0   0.0  0.0     0.0      0.0  0.0      0.0  \n",
      "1      0.0    0.0     0.0   0.0  0.0     0.0      0.0  0.0      0.0  \n",
      "2      0.0    0.0     0.0   0.0  0.0     0.0      0.0  0.0      0.0  \n",
      "3      0.0    0.0     0.0   0.0  0.0     0.0      0.0  0.0      0.0  \n",
      "4      0.0    0.0     0.0   0.0  0.0     0.0      0.0  0.0      0.0  \n",
      "...    ...    ...     ...   ...  ...     ...      ...  ...      ...  \n",
      "19992  0.0    0.0     0.0   0.0  0.0     0.0      0.0  0.0      0.0  \n",
      "19993  0.0    0.0     0.0   0.0  0.0     0.0      0.0  0.0      0.0  \n",
      "19994  0.0    0.0     0.0   0.0  0.0     0.0      0.0  0.0      0.0  \n",
      "19995  0.0    0.0     0.0   0.0  0.0     0.0      0.0  0.0      0.0  \n",
      "19996  0.0    0.0     0.0   0.0  0.0     0.0      0.0  0.0      0.0  \n",
      "\n",
      "[19997 rows x 2000 columns]\n",
      "(19997,)\n"
     ]
    }
   ],
   "source": [
    "df=makingdataframe(list1,list6)                                       #generating dataframe \n",
    "print(df)\n",
    "print(y_target.shape)\n",
    "arr=df.to_numpy()                                                     #generating numpy array because i am more comfortable with it"
   ]
  },
  {
   "cell_type": "code",
   "execution_count": 5,
   "metadata": {},
   "outputs": [],
   "source": [
    "def makelabel(col):                                                                 #lableing the col counts as 0,1 ,2 ,3\n",
    "    second_limit=col.mean()\n",
    "    first_limit=0.5*second_limit\n",
    "    third_limit=1.5*second_limit                                                    #defining limits  \n",
    "    for i in range(len(col)):\n",
    "        if col[i] <= first_limit:\n",
    "            col[i]=0\n",
    "        elif col[i] <=second_limit:\n",
    "            col[i]=1\n",
    "        elif col[i] <=third_limit:\n",
    "            col[i]=2\n",
    "        else :col[i]=3\n",
    "    return col            "
   ]
  },
  {
   "cell_type": "code",
   "execution_count": 6,
   "metadata": {},
   "outputs": [],
   "source": [
    "for i in range(arr.shape[-1]):                                                    #passing all columns to makelabel\n",
    "    arr[:,i]=makelabel(arr[:,i])"
   ]
  },
  {
   "cell_type": "code",
   "execution_count": 7,
   "metadata": {},
   "outputs": [],
   "source": [
    "x_train,x_test,y_train,y_test=train_test_split(arr,y_target)   #splitting here\n"
   ]
  },
  {
   "cell_type": "code",
   "execution_count": 8,
   "metadata": {},
   "outputs": [],
   "source": [
    "def fit(x_train,y_train):                                                         # defining fit function for training\n",
    "    result={}                                                                     #defining result as dic\n",
    "    class_values=set(y_train)                                                     #all types of class of newspaper availiable\n",
    "    for curr_class in class_values:                                               #defining dic for all type of class \n",
    "        result[curr_class]={}                          \n",
    "        result[\"totalcount\"]=len(y_train)                                         # storing totol counts\n",
    "        curr_class_rows=(y_train==curr_class)\n",
    "        x_train_curr=x_train[curr_class_rows]                                     #curr_class belonging x_train\n",
    "        y_train_curr=x_train[curr_class_rows]                                     \n",
    "        num_features=x_train.shape[1]\n",
    "        result[curr_class][\"totalcount\"]=len(y_train_curr)\n",
    "        for j in range(num_features):                                             #here storing all count to curr_class with curr_value\n",
    "            result[curr_class][j]={}\n",
    "            all_possible_val=set(x_train[:,j])\n",
    "            for curr_value in all_possible_val:\n",
    "                result[curr_class][j][curr_value]=(x_train_curr[:,j]==curr_value).sum()\n",
    "    return result          "
   ]
  },
  {
   "cell_type": "code",
   "execution_count": 9,
   "metadata": {},
   "outputs": [],
   "source": [
    "dic=fit(x_train,y_train)"
   ]
  },
  {
   "cell_type": "code",
   "execution_count": 10,
   "metadata": {},
   "outputs": [],
   "source": [
    "def probability(dic,x,curr_class):                                                #defining probability function\n",
    "    output=np.log(dic[curr_class][\"totalcount\"])-np.log(dic[\"totalcount\"])        #defining class prob in log terms \n",
    "    number_feature=len(dic[curr_class].keys())-1\n",
    "    for j in range(number_feature):\n",
    "        xj=x[j]\n",
    "        if xj not in dic[curr_class][j]:                                          #here if feature in jth column is not in dic[curr_class][j] then explicitly handling it\n",
    "            count_curr_class_with_value_xj=1\n",
    "        else:    \n",
    "            count_curr_class_with_value_xj=dic[curr_class][j][xj]+1\n",
    "        count_curr_class=dic[curr_class][\"totalcount\"]+len(dic[curr_class][j].keys())\n",
    "        output+=np.log(count_curr_class_with_value_xj)-np.log(count_curr_class)   #defining probability for all all columns of a row in termns of log \n",
    "    return output    "
   ]
  },
  {
   "cell_type": "code",
   "execution_count": 11,
   "metadata": {},
   "outputs": [],
   "source": [
    "def singleproblabilty(dic,x):                                                   #here defining single probabilty of a row \n",
    "    classes=dic.keys()\n",
    "    best_class=-10\n",
    "    best_prob=-10\n",
    "    first_run=True\n",
    "    for curr_class in classes:                                                 #for each class calculating prob then finding which one has high prob\n",
    "        if curr_class==\"totalcount\":\n",
    "            continue\n",
    "        curr_prob=probability(dic,x,curr_class)\n",
    "        if first_run or curr_prob>best_prob:\n",
    "            best_prob=curr_prob\n",
    "            best_class=curr_class\n",
    "        first_run=False\n",
    "    return best_class                                                         #returning best_class with higher prob\n",
    "    \n",
    "    "
   ]
  },
  {
   "cell_type": "code",
   "execution_count": 12,
   "metadata": {},
   "outputs": [],
   "source": [
    "def predict(x_test,dic):                                                       #defining predict function\n",
    "    y_pred=[]                                                                  #contains result of x_test\n",
    "    for x in x_test:\n",
    "        best_class=singleproblabilty(dic,x)                                    #calculating prob of each row\n",
    "        y_pred.append(best_class)\n",
    "    return y_pred                                                              \n",
    "    \n",
    "    "
   ]
  },
  {
   "cell_type": "code",
   "execution_count": 13,
   "metadata": {},
   "outputs": [],
   "source": [
    "y_pred=predict(x_test,dic)                                                     #calculating pred value of x_test"
   ]
  },
  {
   "cell_type": "markdown",
   "metadata": {},
   "source": [
    "\"\"\"\"COMPARING PREDICTIONS WITH OWN WRITTEN AND INBUILD NAIVE BAYES IN SKLEARN\"\"\""
   ]
  },
  {
   "cell_type": "code",
   "execution_count": 17,
   "metadata": {},
   "outputs": [
    {
     "name": "stdout",
     "output_type": "stream",
     "text": [
      "              precision    recall  f1-score   support\n",
      "\n",
      "           0       0.77      0.68      0.72       252\n",
      "           1       0.77      0.78      0.77       243\n",
      "           2       0.79      0.82      0.80       239\n",
      "           3       0.90      0.83      0.86       270\n",
      "           4       0.86      0.82      0.84       236\n",
      "           5       0.90      0.79      0.84       253\n",
      "           6       0.37      0.90      0.52       259\n",
      "           7       0.85      0.80      0.83       251\n",
      "           8       0.81      0.89      0.85       247\n",
      "           9       0.96      0.89      0.92       263\n",
      "          10       0.97      0.95      0.96       256\n",
      "          11       0.91      0.82      0.86       236\n",
      "          12       0.76      0.82      0.79       235\n",
      "          13       0.88      0.69      0.77       241\n",
      "          14       0.85      0.80      0.82       234\n",
      "          15       0.96      0.92      0.94       253\n",
      "          16       0.82      0.74      0.78       247\n",
      "          17       0.88      0.67      0.76       249\n",
      "          18       0.71      0.54      0.61       272\n",
      "          19       0.62      0.50      0.56       264\n",
      "\n",
      "    accuracy                           0.78      5000\n",
      "   macro avg       0.82      0.78      0.79      5000\n",
      "weighted avg       0.82      0.78      0.79      5000\n",
      "\n",
      "[[171   1   1   1   3   0  13   3   9   1   1   0   1   1   2   1   1   5\n",
      "    3  34]\n",
      " [  0 189   9   6   4   5  24   0   0   0   0   1   3   1   1   0   0   0\n",
      "    0   0]\n",
      " [  0  11 196   1   2   3  21   0   0   0   0   3   2   0   0   0   0   0\n",
      "    0   0]\n",
      " [  0   4   4 223   5   1  28   0   0   0   0   0   4   0   1   0   0   0\n",
      "    0   0]\n",
      " [  0   3   7   4 193   0  24   1   0   0   0   0   2   0   1   0   1   0\n",
      "    0   0]\n",
      " [  0   7   8   0   1 199  31   1   0   0   0   2   2   0   2   0   0   0\n",
      "    0   0]\n",
      " [  0   2   3   9   0   0 234   1   2   0   0   1   4   1   1   0   0   0\n",
      "    1   0]\n",
      " [  0   1   0   0   1   0  29 202   3   0   1   0   4   0   1   0   2   1\n",
      "    6   0]\n",
      " [  0   0   0   0   0   2   9   8 221   0   0   1   0   1   1   1   0   0\n",
      "    1   2]\n",
      " [  0   0   0   0   0   0  24   0   2 233   2   0   0   0   1   0   0   0\n",
      "    1   0]\n",
      " [  0   0   0   0   1   0   9   1   0   1 242   0   1   0   0   0   1   0\n",
      "    0   0]\n",
      " [  0   5   3   0   1   2  14   1   3   0   0 193   6   0   3   0   1   0\n",
      "    4   0]\n",
      " [  0   3   2   1   3   0  20   2   1   0   0   5 193   1   1   0   0   0\n",
      "    3   0]\n",
      " [  0   8   1   0   1   2  31   3   6   0   1   0  12 166   2   1   0   1\n",
      "    4   2]\n",
      " [  0   6   4   0   3   2  18   0   2   0   0   1   3   2 187   0   1   3\n",
      "    2   0]\n",
      " [  0   1   2   0   0   0  16   0   0   0   0   0   0   0   0 232   0   2\n",
      "    0   0]\n",
      " [  0   1   0   1   1   0  20   1   4   2   1   3   4   2   2   0 183   2\n",
      "   10  10]\n",
      " [  2   1   7   0   4   4  24   3   9   3   1   1   3   6   2   0   4 166\n",
      "    5   4]\n",
      " [  8   0   1   2   1   0  27   9   8   3   0   0   2   3  10   0  19   5\n",
      "  146  28]\n",
      " [ 41   4   0   1   1   2  22   2   4   0   1   0   8   5   3   6   9   3\n",
      "   19 133]]\n"
     ]
    }
   ],
   "source": [
    "from sklearn.metrics import classification_report                             #here printing report data implemented by own written naive bayes\n",
    "from sklearn.metrics import confusion_matrix\n",
    "print(classification_report(y_test,y_pred))\n",
    "print(confusion_matrix(y_test,y_pred))"
   ]
  },
  {
   "cell_type": "code",
   "execution_count": 19,
   "metadata": {},
   "outputs": [
    {
     "name": "stdout",
     "output_type": "stream",
     "text": [
      "              precision    recall  f1-score   support\n",
      "\n",
      "           0       0.77      0.80      0.78       252\n",
      "           1       0.75      0.87      0.81       243\n",
      "           2       0.84      0.87      0.86       239\n",
      "           3       0.93      0.89      0.91       270\n",
      "           4       0.92      0.89      0.90       236\n",
      "           5       0.90      0.87      0.88       253\n",
      "           6       0.77      0.90      0.83       259\n",
      "           7       0.89      0.90      0.89       251\n",
      "           8       0.96      0.92      0.94       247\n",
      "           9       0.95      0.96      0.96       263\n",
      "          10       0.97      0.98      0.97       256\n",
      "          11       0.93      0.91      0.92       236\n",
      "          12       0.83      0.89      0.86       235\n",
      "          13       0.94      0.86      0.90       241\n",
      "          14       0.89      0.88      0.89       234\n",
      "          15       0.94      0.99      0.96       253\n",
      "          16       0.79      0.89      0.84       247\n",
      "          17       0.92      0.84      0.88       249\n",
      "          18       0.74      0.64      0.69       272\n",
      "          19       0.63      0.53      0.58       264\n",
      "\n",
      "    accuracy                           0.86      5000\n",
      "   macro avg       0.86      0.86      0.86      5000\n",
      "weighted avg       0.86      0.86      0.86      5000\n",
      "\n",
      "[19  6  8 ... 13 15 18]\n",
      "\n",
      "[[201   1   1   0   0   0   0   1   2   1   0   0   1   1   1   4   1   2\n",
      "    2  33]\n",
      " [  0 211   9   7   2   6   3   0   0   0   0   0   1   2   2   0   0   0\n",
      "    0   0]\n",
      " [  0  15 208   0   1   6   4   0   0   0   0   2   2   0   0   0   1   0\n",
      "    0   0]\n",
      " [  0   5   6 241   4   0   7   0   0   0   0   0   7   0   0   0   0   0\n",
      "    0   0]\n",
      " [  0   6   6   3 209   0   7   1   0   1   0   1   1   0   1   0   0   0\n",
      "    0   0]\n",
      " [  0  10  10   0   2 219   5   0   0   0   0   1   1   0   2   0   0   0\n",
      "    1   2]\n",
      " [  0   1   2   5   2   0 234   4   2   0   2   1   4   0   1   0   0   0\n",
      "    0   1]\n",
      " [  0   2   0   0   0   1   7 225   1   0   1   0   6   0   1   0   4   0\n",
      "    3   0]\n",
      " [  0   0   0   0   0   3   4   7 227   2   0   0   0   0   0   0   0   0\n",
      "    2   2]\n",
      " [  0   0   0   0   0   0   3   2   1 253   2   0   0   0   0   0   0   1\n",
      "    0   1]\n",
      " [  0   0   0   0   0   0   1   1   0   2 250   0   1   0   0   0   0   0\n",
      "    1   0]\n",
      " [  0   3   0   0   1   1   0   0   0   0   0 215   2   1   5   0   2   0\n",
      "    5   1]\n",
      " [  0   4   3   2   0   0   6   3   0   1   0   2 210   1   3   0   0   0\n",
      "    0   0]\n",
      " [  0   9   0   0   0   2   6   2   2   0   1   0   4 208   1   1   0   2\n",
      "    1   2]\n",
      " [  0   8   1   0   2   2   4   0   0   0   0   0   5   2 207   1   1   0\n",
      "    1   0]\n",
      " [  0   0   0   0   0   1   0   0   0   0   0   0   0   0   0 250   0   2\n",
      "    0   0]\n",
      " [  0   0   0   1   1   0   2   0   0   0   0   4   1   0   1   0 219   0\n",
      "   10   8]\n",
      " [  2   2   0   0   2   2   4   3   1   1   1   1   0   3   1   2   3 210\n",
      "    8   3]\n",
      " [  8   1   1   0   1   0   2   3   1   3   0   1   3   3   4   1  29  10\n",
      "  174  27]\n",
      " [ 51   2   0   0   1   0   6   1   0   1   0   2   5   1   3   8  17   1\n",
      "   26 139]]\n"
     ]
    }
   ],
   "source": [
    "from sklearn.naive_bayes import MultinomialNB                             #here printing report data of inbuild naive bayes \n",
    "clf=MultinomialNB()\n",
    "clf.fit(x_train,y_train)\n",
    "y_pred_inbuild=clf.predict(x_test)\n",
    "print(classification_report(y_test,y_pred_inbuild))\n",
    "print(y_pred_inbuild)\n",
    "print (\"\")\n",
    "print(confusion_matrix(y_test,y_pred_inbuild))"
   ]
  }
 ],
 "metadata": {
  "kernelspec": {
   "display_name": "Python 3",
   "language": "python",
   "name": "python3"
  },
  "language_info": {
   "codemirror_mode": {
    "name": "ipython",
    "version": 3
   },
   "file_extension": ".py",
   "mimetype": "text/x-python",
   "name": "python",
   "nbconvert_exporter": "python",
   "pygments_lexer": "ipython3",
   "version": "3.7.7"
  }
 },
 "nbformat": 4,
 "nbformat_minor": 2
}
